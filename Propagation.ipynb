{
 "metadata": {
  "language": "Julia",
  "name": "",
  "signature": "sha256:542415a184d27c6ce8641932a1598944c0f38f68efecda9f3eeaa3ef9cb7d5c6"
 },
 "nbformat": 3,
 "nbformat_minor": 0,
 "worksheets": [
  {
   "cells": [
    {
     "cell_type": "markdown",
     "metadata": {},
     "source": [
      "Implements Edward's propagation algorithm (a la Hoshen--Kopelman)\n",
      "\n",
      "As in Hoshen--Kopelman, need to use a discrete set data structure"
     ]
    },
    {
     "cell_type": "code",
     "collapsed": false,
     "input": [
      "type State\n",
      "    lengths::Vector{Int}\n",
      "    next_label::Int\n",
      "    representatives::Vector{Int}\n",
      "    is_open::Vector{Bool}\n",
      "    \n",
      "    function State(L::Int)\n",
      "        lengths = [1 for i in 1:L]\n",
      "        next_label = L+1\n",
      "        representatives = collect(1:L)  # which subset belongs to\n",
      "        is_open = [true for i in 1:L]  # whether the corresponding part of trajectory is open\n",
      "\n",
      "        new(lengths, next_label, representatives, is_open)\n",
      "    end\n",
      "        \n",
      "end\n",
      "\n",
      "state = State(5)"
     ],
     "language": "python",
     "metadata": {},
     "outputs": [
      {
       "metadata": {},
       "output_type": "pyout",
       "prompt_number": 1,
       "text": [
        "State([1,1,1,1,1],6,[1,2,3,4,5],Bool[true,true,true,true,true])"
       ]
      }
     ],
     "prompt_number": 1
    },
    {
     "cell_type": "code",
     "collapsed": false,
     "input": [
      "function join_paths!(state, n, m)  \n",
      "    # join the paths with labels n and m\n",
      "    \n",
      "    state.lengths[n] += 1\n",
      "\n",
      "    rep_n, rep_m = state.representatives[n], state.representatives[m]\n",
      "\n",
      "    if rep_n <= rep_m\n",
      "        state.representatives[m] = rep_n\n",
      "    else\n",
      "        state.representatives[n] = rep_m\n",
      "    end\n",
      "\n",
      "end\n",
      "\n",
      "\n",
      "function new_label!(state, is_open)\n",
      "    label = state.next_label\n",
      "    state.next_label += 1\n",
      "\n",
      "    # add new label to structure:\n",
      "    push!(state.lengths, 2)  \n",
      "    push!(state.representatives, label)\n",
      "    push!(state.is_open, is_open)\n",
      "    \n",
      "    return label\n",
      "end\n",
      "\n",
      "\n",
      "function increment_length!(state, i)\n",
      "    state.lengths[i] += 1\n",
      "end\n",
      "\n",
      "function terminate!(state, i)\n",
      "    state.lengths[i] += 1\n",
      "    state.is_open[i] = true\n",
      "end\n"
     ],
     "language": "python",
     "metadata": {},
     "outputs": [
      {
       "metadata": {},
       "output_type": "pyout",
       "prompt_number": 21,
       "text": [
        "terminate! (generic function with 1 method)"
       ]
      }
     ],
     "prompt_number": 21
    },
    {
     "cell_type": "code",
     "collapsed": false,
     "input": [
      "function initialise(L)\n",
      "    labels = collect(1:L)'        \n",
      "    state = State(L)\n",
      "    \n",
      "    return labels, state\n",
      "end\n",
      "\n",
      "\n",
      "function do_row!(L, labels, new_labels, mirrors, state)\n",
      "    \n",
      "    #println(\"At start of row, state is\")\n",
      "    #println(state)\n",
      "        \n",
      "    #rand!(-1:2:1, L, mirrors)'\n",
      "    #new_labels = similar(labels)  # uninitialised\n",
      "    \n",
      "    for i in 1:L\n",
      "        mirrors[i] = rand() < 0.5 ? 1 : -1\n",
      "    end\n",
      "\n",
      "        \n",
      "#     println(\"labels = \", labels)\n",
      "   #  println(\"mirrors = \", mirrors)\n",
      "    s = \"$mirrors\"\n",
      "    s = replace(s, \"-1\", \"/\")  # al reves so labels flow down instead of up\n",
      "    s = replace(s, \"1\", \"\\\\\")\n",
      "    #print(\"mirrors = $s\")\n",
      "    \n",
      "    \n",
      "    # first mirror in row is special case:\n",
      "    \n",
      "    mirror_value = mirrors[1]  # first mirror\n",
      "    \n",
      "    if mirror_value == 1\n",
      "        new_labels[1] = new_label!(state, true)  # starts from edge, so open\n",
      "                \n",
      "    else  # is -1\n",
      "        terminate!(state, labels[1])\n",
      "        \n",
      "        if mirrors[2] == -1\n",
      "            new_labels[1] = labels[2]\n",
      "            state.lengths[new_labels[1]] += 2\n",
      "            \n",
      "        else\n",
      "            new_labels[1] = new_label!(state, false)  # does not start from edge\n",
      "        end\n",
      "    end    \n",
      "    \n",
      "    \n",
      "    # intermediates:\n",
      "    \n",
      "    for i in 2:L-1\n",
      "        mirror_value = mirrors[i]\n",
      "        \n",
      "        if mirror_value == 1\n",
      "            if mirrors[i-1] == 1\n",
      "                new_labels[i] = labels[i-1]\n",
      "                state.lengths[new_labels[i]] += 2\n",
      "                \n",
      "            else\n",
      "                new_labels[i] = new_labels[i-1]  # it's a new trajectory; already created the correct new label\n",
      "                state.lengths[new_labels[i]] += 1\n",
      "                \n",
      "            end\n",
      "            \n",
      "        else  # mirror_value = -1\n",
      "            if mirrors[i-1] == 1\n",
      "                join_paths!(state, labels[i-1], labels[i])\n",
      "                \n",
      "            end\n",
      "            \n",
      "            if mirrors[i+1] == -1\n",
      "                new_labels[i] = labels[i+1]\n",
      "                state.lengths[new_labels[i]] += 2\n",
      "                \n",
      "            else\n",
      "                new_labels[i] = new_label!(state, false)\n",
      "            end\n",
      "        end\n",
      "    end\n",
      "    \n",
      "    \n",
      "    # last mirror in row is special case:\n",
      "    \n",
      "    mirror_value = mirrors[L]\n",
      "    \n",
      "    if mirror_value == 1\n",
      "        terminate!(state, labels[L])\n",
      "        \n",
      "        if mirrors[L-1] == 1\n",
      "            new_labels[L] = labels[L-1]\n",
      "            state.lengths[new_labels[L]] += 2\n",
      "                \n",
      "        else\n",
      "            new_labels[L] = new_labels[L-1]  # it's a new trajectory; already created the correct new label\n",
      "            state.lengths[new_labels[L]] += 1  # U shape, already put 2 to start with\n",
      "                \n",
      "        end\n",
      "        \n",
      "    else  # mirror_value = -1\n",
      "        if mirrors[L-1] == 1\n",
      "            join_paths!(state, labels[L-1], labels[L])\n",
      "        end\n",
      "            \n",
      "        new_labels[L] = new_label!(state, true)  # starts from edge, so is open\n",
      "    end\n",
      "    \n",
      "    labels, new_labels = new_labels, labels\n",
      "    \n",
      "    #return (new_labels, state)\n",
      "\n",
      "    # Also must terminate those trajectories that leave\n",
      "\n",
      "end\n",
      "\n",
      "    \n",
      "    "
     ],
     "language": "python",
     "metadata": {},
     "outputs": [
      {
       "metadata": {},
       "output_type": "pyout",
       "prompt_number": 50,
       "text": [
        "do_row! (generic function with 1 method)"
       ]
      }
     ],
     "prompt_number": 50
    },
    {
     "cell_type": "code",
     "collapsed": false,
     "input": [
      "function find(state, i)\n",
      "    # find representative of state i\n",
      "    \n",
      "    repr = i\n",
      "    while state.representatives[repr] != repr\n",
      "        repr = state.representatives[repr]\n",
      "    end\n",
      "    \n",
      "    return repr\n",
      "end\n",
      "\n",
      "function find_paths(state)\n",
      "    # join disjoint sets\n",
      "    \n",
      "    num_paths = length(state.lengths)\n",
      "    \n",
      "    println(\"Finding paths... num_paths=\", num_paths)\n",
      "    \n",
      "    for i in num_paths:-1:1\n",
      "        repr = find(state, i);\n",
      "        #println(i, \"\\t\", repr, \"\\t\", state.lengths[i])\n",
      "        if repr < i\n",
      "            state.lengths[repr] += state.lengths[i]\n",
      "            state.is_open[repr] |= state.is_open[i]  # if either open, the whole is open\n",
      "        end\n",
      "    end\n",
      "    \n",
      "    for i in 1:num_paths\n",
      "        repr = find(state, i);\n",
      "        if repr == i\n",
      "            #println(repr, \"\\t\", state.lengths[repr], \"\\t\", state.is_open[repr])\n",
      "        end\n",
      "    end\n",
      "    \n",
      "end"
     ],
     "language": "python",
     "metadata": {},
     "outputs": [
      {
       "metadata": {},
       "output_type": "pyout",
       "prompt_number": 51,
       "text": [
        "find_paths (generic function with 1 method)"
       ]
      }
     ],
     "prompt_number": 51
    },
    {
     "cell_type": "code",
     "collapsed": false,
     "input": [
      "function run_rows(width, num_rows)\n",
      "    \n",
      "    labels, state = initialise(width)\n",
      "    new_labels = similar(labels)\n",
      "    mirrors = similar(labels)\n",
      "\n",
      "    #print(\"labels=\", labels)\n",
      "    #println(\"state=\", state)\n",
      "\n",
      "    for row in 1:num_rows\n",
      "        if row%100 == 0\n",
      "            println(\"Doing row \", row)\n",
      "        end\n",
      "        do_row!(width, labels, new_labels, mirrors, state)\n",
      "        #print(\"labels=\", labels)\n",
      "    end\n",
      "\n",
      "    for label in labels\n",
      "        state.is_open[label] = true  # arrived at top\n",
      "    end\n",
      "\n",
      "    find_paths(state)\n",
      "\n",
      "    #println(\"state=\", state)\n",
      "end\n",
      "    \n",
      "@time run_rows(10000, 1000)\n"
     ],
     "language": "python",
     "metadata": {},
     "outputs": [
      {
       "output_type": "stream",
       "stream": "stdout",
       "text": [
        "Doing row 100"
       ]
      },
      {
       "output_type": "stream",
       "stream": "stdout",
       "text": [
        "\n",
        "Doing row "
       ]
      },
      {
       "output_type": "stream",
       "stream": "stdout",
       "text": [
        "200\n",
        "Doing row "
       ]
      },
      {
       "output_type": "stream",
       "stream": "stdout",
       "text": [
        "300\n",
        "Doing row "
       ]
      },
      {
       "output_type": "stream",
       "stream": "stdout",
       "text": [
        "400\n",
        "Doing row "
       ]
      },
      {
       "output_type": "stream",
       "stream": "stdout",
       "text": [
        "500\n",
        "Doing row "
       ]
      },
      {
       "output_type": "stream",
       "stream": "stdout",
       "text": [
        "600\n",
        "Doing row "
       ]
      },
      {
       "output_type": "stream",
       "stream": "stdout",
       "text": [
        "700\n",
        "Doing row "
       ]
      },
      {
       "output_type": "stream",
       "stream": "stdout",
       "text": [
        "800\n",
        "Doing row "
       ]
      },
      {
       "output_type": "stream",
       "stream": "stdout",
       "text": [
        "900\n",
        "Doing row "
       ]
      },
      {
       "output_type": "stream",
       "stream": "stdout",
       "text": [
        "1000\n",
        "Finding paths... num_paths=2511064\n",
        "elapsed time: 5.80548015 seconds (1841141104 bytes allocated)\n"
       ]
      }
     ],
     "prompt_number": 55
    },
    {
     "cell_type": "markdown",
     "metadata": {},
     "source": [
      "1 and L+1 are boundaries"
     ]
    },
    {
     "cell_type": "code",
     "collapsed": false,
     "input": [
      "if new_labels[2] == -1\n",
      "    new_labels[2] = next_label\n",
      "    next_label += 1\n",
      "else\n",
      "    # one terminates\n",
      "end\n",
      "\n",
      "if new_labels[end-1] == -1\n",
      "    new_labels[end-1] = next_label\n",
      "    next_label += 1\n",
      "else\n",
      "    # one terminates\n",
      "end\n",
      "\n",
      "# Also must terminate those trajectories that leave"
     ],
     "language": "python",
     "metadata": {},
     "outputs": [],
     "prompt_number": 67
    },
    {
     "cell_type": "code",
     "collapsed": false,
     "input": [],
     "language": "python",
     "metadata": {},
     "outputs": []
    }
   ],
   "metadata": {}
  }
 ]
}