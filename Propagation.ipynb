{
 "metadata": {
  "language": "Julia",
  "name": "",
  "signature": "sha256:542415a184d27c6ce8641932a1598944c0f38f68efecda9f3eeaa3ef9cb7d5c6"
 },
 "nbformat": 3,
 "nbformat_minor": 0,
 "worksheets": [
  {
   "cells": [
    {
     "cell_type": "markdown",
     "metadata": {},
     "source": [
      "Implements Edward's propagation algorithm (a la Hoshen--Kopelman)"
     ]
    },
    {
     "cell_type": "code",
     "collapsed": false,
     "input": [
      "L = 100"
     ],
     "language": "python",
     "metadata": {},
     "outputs": [
      {
       "metadata": {},
       "output_type": "pyout",
       "prompt_number": 1,
       "text": [
        "100"
       ]
      }
     ],
     "prompt_number": 1
    },
    {
     "cell_type": "code",
     "collapsed": false,
     "input": [
      "type State\n",
      "    lengths::Dict{Int, Int}\n",
      "    next_label::Int\n",
      "    \n",
      "    function State(L::Int)\n",
      "        lengths = [i=>1 for i in 1:L]\n",
      "        next_label = L+1\n",
      "        new(lengths, next_label)\n",
      "    end\n",
      "        \n",
      "end"
     ],
     "language": "python",
     "metadata": {},
     "outputs": [],
     "prompt_number": 30
    },
    {
     "cell_type": "code",
     "collapsed": false,
     "input": [
      "function join_paths!(state, n, m)  \n",
      "    # join the paths with labels n and m\n",
      "    \n",
      "    if n==m\n",
      "        state.lengths[n] += 1\n",
      "        state.lengths[n] = -state.lengths[n]  # negative length indicates closed path\n",
      "        \n",
      "    else\n",
      "        if n < m\n",
      "            min, max = n, m\n",
      "        else\n",
      "            min, max = m, n\n",
      "        end\n",
      "            \n",
      "        state.lengths[min] += state.lengths[max] + 1\n",
      "        delete!(state.lengths, max)\n",
      "    end\n",
      "end\n",
      "\n",
      "\n",
      "function new_label!(state)\n",
      "    label = state.next_label\n",
      "    state.lengths[label] = 1\n",
      "    state.next_label += 1\n",
      "    \n",
      "    return label\n",
      "end\n",
      "\n",
      "\n",
      "function increment_length!(state, i)\n",
      "    state.lengths[i] += 1\n",
      "end\n",
      "\n",
      "function terminate!(state, i)\n",
      "    state.lengths[i] += 1\n",
      "end\n"
     ],
     "language": "python",
     "metadata": {},
     "outputs": [
      {
       "metadata": {},
       "output_type": "pyout",
       "prompt_number": 34,
       "text": [
        "terminate! (generic function with 1 method)"
       ]
      }
     ],
     "prompt_number": 34
    },
    {
     "cell_type": "code",
     "collapsed": false,
     "input": [
      "state = State(10)"
     ],
     "language": "python",
     "metadata": {},
     "outputs": [
      {
       "metadata": {},
       "output_type": "pyout",
       "prompt_number": 22,
       "text": [
        "11"
       ]
      }
     ],
     "prompt_number": 22
    },
    {
     "cell_type": "code",
     "collapsed": false,
     "input": [
      "function initialise(L)\n",
      "    labels = collect(1:L)'        \n",
      "    state = State(L)\n",
      "    \n",
      "    return labels, state\n",
      "end\n",
      "\n",
      "\n",
      "function do_row(L, labels, state)\n",
      "        \n",
      "    mirrors = rand(-1:2:1, L)'\n",
      "    new_labels = similar(labels)  # uninitialised\n",
      "        \n",
      "#     println(\"labels = \", labels)\n",
      "     println(\"mirrors = \", mirrors)\n",
      "    s = \"$mirrors\"\n",
      "    s = replace(s, \"-1\", \"/\")  # al reves so labels flow down instead of up\n",
      "    s = replace(s, \"1\", \"\\\\\")\n",
      "    println(\"mirrors = $s\")\n",
      "    \n",
      "    \n",
      "    # first mirror in row is special case:\n",
      "    \n",
      "    mirror_value = mirrors[1]  # first mirror\n",
      "    \n",
      "    if mirror_value == 1\n",
      "        new_labels[1] = new_label!(state)\n",
      "                \n",
      "    else  # is -1\n",
      "        terminate!(state, labels[1])\n",
      "        \n",
      "        if mirrors[2] == -1\n",
      "            new_labels[1] = labels[2]\n",
      "            increment_length!(state, new_labels[1])\n",
      "            \n",
      "        else\n",
      "            new_labels[1] = new_label!(state)\n",
      "        end\n",
      "    end    \n",
      "    \n",
      "    \n",
      "    # intermediates:\n",
      "    \n",
      "    for i in 2:L-1\n",
      "        mirror_value = mirrors[i]\n",
      "        \n",
      "        if mirror_value == 1\n",
      "            if mirrors[i-1] == 1\n",
      "                new_labels[i] = labels[i-1]\n",
      "                increment_length!(state, new_labels[i])\n",
      "                \n",
      "            else\n",
      "                new_labels[i] = new_labels[i-1]  # it's a new trajectory; already created the correct new label\n",
      "                \n",
      "            end\n",
      "            \n",
      "        else  # mirror_value = -1\n",
      "            if mirrors[i-1] == 1\n",
      "                join_paths!(state, labels[i-1], labels[i])\n",
      "                \n",
      "            end\n",
      "            \n",
      "            if mirrors[i+1] == -1\n",
      "                new_labels[i] = labels[i+1]\n",
      "                increment_length!(state, new_labels[i])\n",
      "                \n",
      "            else\n",
      "                new_labels[i] = new_label!(state)\n",
      "            end\n",
      "        end\n",
      "    end\n",
      "    \n",
      "    \n",
      "    # last mirror in row is special case:\n",
      "    \n",
      "    mirror_value = mirrors[L]\n",
      "    \n",
      "    if mirror_value == 1\n",
      "        terminate!(state, labels[L])\n",
      "        \n",
      "        if mirrors[L-1] == 1\n",
      "            new_labels[L] = labels[L-1]\n",
      "            increment_length!(state, new_labels[L])\n",
      "                \n",
      "        else\n",
      "            new_labels[L] = new_labels[L-1]  # it's a new trajectory; already created the correct new label\n",
      "                \n",
      "        end\n",
      "        \n",
      "    else  # mirror_value = -1\n",
      "        if mirrors[L-1] == 1\n",
      "            join_paths!(state, labels[L-1], labels[L])\n",
      "        end\n",
      "            \n",
      "        new_labels[L] = new_label!(state)\n",
      "    end\n",
      "    \n",
      "    return (new_labels, state)\n",
      "\n",
      "    # Also must terminate those trajectories that leave\n",
      "\n",
      "end\n",
      "\n",
      "    \n",
      "    "
     ],
     "language": "python",
     "metadata": {},
     "outputs": [
      {
       "metadata": {},
       "output_type": "pyout",
       "prompt_number": 61,
       "text": [
        "do_row (generic function with 1 method)"
       ]
      }
     ],
     "prompt_number": 61
    },
    {
     "cell_type": "code",
     "collapsed": false,
     "input": [
      "L = 10\n",
      "labels, state = initialise(L)\n",
      "\n",
      "\n",
      "\n",
      "println(\"labels=\", labels)\n",
      "#println(\"state=\", state)\n",
      "\n",
      "for step in 1:10\n",
      "    labels, state = do_row(L, labels, state)\n",
      "    println(\"labels=\", labels)\n",
      "end\n",
      "\n",
      "println(\"state=\", state)\n",
      "    \n",
      "\n"
     ],
     "language": "python",
     "metadata": {},
     "outputs": [
      {
       "output_type": "stream",
       "stream": "stdout",
       "text": [
        "labels=1\t2\t3\t4\t5\t6\t7\t8\t9\t10\n"
       ]
      },
      {
       "output_type": "stream",
       "stream": "stdout",
       "text": [
        "\n",
        "mirrors = 1\t-1\t1\t1\t1\t1\t1\t-1\t1\t1\n",
        "\n",
        "mirrors = \\\t/\t\\\t\\\t\\\t\\\t\\\t/\t\\\t\\\n",
        "\n",
        "labels=11\t12\t12\t3\t4\t5\t6\t13\t13\t9\n",
        "\n",
        "mirrors = -1\t-1\t1\t-1\t1\t-1\t1\t1\t1\t-1\n",
        "\n",
        "mirrors = /\t/\t\\\t/\t\\\t/\t\\\t\\\t\\\t/\n",
        "\n",
        "labels=12\t14\t14\t15\t15\t16\t16\t6\t13\t17\n",
        "\n",
        "mirrors = 1\t1\t1\t1\t-1\t1\t1\t-1\t1\t-1\n",
        "\n",
        "mirrors = \\\t\\\t\\\t\\\t/\t\\\t\\\t/\t\\\t/\n",
        "\n"
       ]
      },
      {
       "ename": "LoadError",
       "evalue": "key not found: 12\nwhile loading In[64], in expression starting on line 9",
       "output_type": "pyerr",
       "traceback": [
        "key not found: 12\nwhile loading In[64], in expression starting on line 9",
        " in getindex at dict.jl:586",
        " in increment_length! at In[34]:31",
        " in do_row at In[61]:50",
        " in anonymous at no file:10"
       ]
      }
     ],
     "prompt_number": 64
    },
    {
     "cell_type": "markdown",
     "metadata": {},
     "source": [
      "1 and L+1 are boundaries"
     ]
    },
    {
     "cell_type": "code",
     "collapsed": false,
     "input": [
      "if new_labels[2] == -1\n",
      "    new_labels[2] = next_label\n",
      "    next_label += 1\n",
      "else\n",
      "    # one terminates\n",
      "end\n",
      "\n",
      "if new_labels[end-1] == -1\n",
      "    new_labels[end-1] = next_label\n",
      "    next_label += 1\n",
      "else\n",
      "    # one terminates\n",
      "end\n",
      "\n",
      "# Also must terminate those trajectories that leave"
     ],
     "language": "python",
     "metadata": {},
     "outputs": [],
     "prompt_number": 67
    },
    {
     "cell_type": "code",
     "collapsed": false,
     "input": [],
     "language": "python",
     "metadata": {},
     "outputs": []
    }
   ],
   "metadata": {}
  }
 ]
}