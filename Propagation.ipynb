{
 "metadata": {
  "language": "Julia",
  "name": "",
  "signature": "sha256:3bb0818c38d74e083ac42e681eba6c3691d8b100c19bb5c6907c77f013182196"
 },
 "nbformat": 3,
 "nbformat_minor": 0,
 "worksheets": [
  {
   "cells": [
    {
     "cell_type": "markdown",
     "metadata": {},
     "source": [
      "Implements Edward's propagation algorithm (a la Hoshen--Kopelman)\n",
      "\n",
      "As in Hoshen--Kopelman, need to use a discrete set data structure"
     ]
    },
    {
     "cell_type": "code",
     "collapsed": false,
     "input": [
      "require(\"/Users/david/development/DataStructures.jl/src/DataStructures.jl\")\n",
      "using DataStructures\n",
      "\n",
      "import DataStructures.find_root"
     ],
     "language": "python",
     "metadata": {},
     "outputs": [],
     "prompt_number": 1
    },
    {
     "cell_type": "code",
     "collapsed": false,
     "input": [
      "type State\n",
      "    sets::IntDisjointSets\n",
      "    lengths::Vector{Int}\n",
      "    is_open::Vector{Bool}\n",
      "    \n",
      "    function State(L::Int)\n",
      "        lengths = ones(L)\n",
      "        is_open = [true for i in 1:L]  # whether the corresponding part of trajectory is open\n",
      "        \n",
      "        new(IntDisjointSets(L), lengths, is_open)\n",
      "    end\n",
      "        \n",
      "end\n",
      "\n",
      "state = State(5)\n",
      "state.sets"
     ],
     "language": "python",
     "metadata": {},
     "outputs": [
      {
       "metadata": {},
       "output_type": "pyout",
       "prompt_number": 2,
       "text": [
        "IntDisjointSets([1,2,3,4,5],[0,0,0,0,0],5)"
       ]
      }
     ],
     "prompt_number": 2
    },
    {
     "cell_type": "code",
     "collapsed": false,
     "input": [
      "function join_paths!(state::State, n, m)  \n",
      "    # join the paths with labels n and m\n",
      "    \n",
      "    #println(\"Joining $n and $m\")\n",
      "    \n",
      "    union!(state.sets, n, m)\n",
      "    \n",
      "    state.lengths[n] += 1\n",
      "    \n",
      "end\n",
      "\n",
      "\n",
      "function find_root(state::State, n::Integer)\n",
      "    find_root(state.sets, n)\n",
      "end\n",
      "\n",
      "function new_label!(state, is_open)\n",
      "    \n",
      "    label = make_set!(state.sets)\n",
      "\n",
      "    # add new label to structure:\n",
      "    push!(state.lengths, 2)  \n",
      "    push!(state.is_open, is_open)\n",
      "    \n",
      "    return label\n",
      "end\n",
      "\n",
      "\n",
      "# function increment_length!(state, i)\n",
      "#     state.lengths[i] += 1\n",
      "# end\n",
      "\n",
      "function terminate!(state, i)\n",
      "    state.lengths[i] += 1\n",
      "    state.is_open[i] = true\n",
      "end\n"
     ],
     "language": "python",
     "metadata": {},
     "outputs": [
      {
       "metadata": {},
       "output_type": "pyout",
       "prompt_number": 3,
       "text": [
        "terminate! (generic function with 1 method)"
       ]
      }
     ],
     "prompt_number": 3
    },
    {
     "cell_type": "code",
     "collapsed": false,
     "input": [
      "function initialise(L)\n",
      "    labels = collect(1:L)'        \n",
      "    state = State(L)\n",
      "    \n",
      "    return labels, state\n",
      "end\n",
      "\n",
      "\n",
      "function do_row!(L, labels, new_labels, mirrors, state)\n",
      "    \n",
      "    #println(\"At start of row, state is\")\n",
      "    #println(state)\n",
      "        \n",
      "    #rand!(-1:2:1, L, mirrors)'\n",
      "    #new_labels = similar(labels)  # uninitialised\n",
      "    \n",
      "    for i in 1:L\n",
      "        mirrors[i] = rand() < 0.5 ? 1 : -1\n",
      "    end\n",
      "\n",
      "    # DEBUGGING OUTPUT:    \n",
      "   println(\"labels = \", labels)\n",
      "    s = \"$mirrors\"\n",
      "    s = replace(s, \"-1\", \"/\")  # al reves so labels flow down instead of up\n",
      "    s = replace(s, \"1\", \"\\\\\")\n",
      "    print(\"mirrors = $s\")\n",
      "\n",
      "    #    println(\"mirrors = \", mirrors)\n",
      "\n",
      "    \n",
      "    # first mirror in row is special case:\n",
      "    \n",
      "    mirror_value = mirrors[1]  # first mirror\n",
      "    \n",
      "    if mirror_value == 1\n",
      "        new_labels[1] = new_label!(state, true)  # starts from edge, so open\n",
      "                \n",
      "    else  # is -1\n",
      "        terminate!(state, labels[1])\n",
      "        \n",
      "        if mirrors[2] == -1\n",
      "            new_labels[1] = labels[2]\n",
      "            state.lengths[new_labels[1]] += 2\n",
      "            \n",
      "        else\n",
      "            new_labels[1] = new_label!(state, false)  # does not start from edge\n",
      "        end\n",
      "    end    \n",
      "    \n",
      "    \n",
      "    # intermediates:\n",
      "    \n",
      "    for i in 2:L-1\n",
      "        mirror_value = mirrors[i]\n",
      "        \n",
      "        if mirror_value == 1\n",
      "            if mirrors[i-1] == 1\n",
      "                new_labels[i] = labels[i-1]\n",
      "                state.lengths[new_labels[i]] += 2\n",
      "                \n",
      "            else\n",
      "                new_labels[i] = new_labels[i-1]  # it's a new trajectory; already created the correct new label\n",
      "                state.lengths[new_labels[i]] += 1\n",
      "                \n",
      "            end\n",
      "            \n",
      "        else  # mirror_value = -1\n",
      "            if mirrors[i-1] == 1\n",
      "                join_paths!(state, labels[i-1], labels[i])\n",
      "                \n",
      "            end\n",
      "            \n",
      "            if mirrors[i+1] == -1\n",
      "                new_labels[i] = labels[i+1]\n",
      "                state.lengths[new_labels[i]] += 2\n",
      "                \n",
      "            else\n",
      "                new_labels[i] = new_label!(state, false)  # start \n",
      "            end\n",
      "        end\n",
      "    end\n",
      "    \n",
      "    \n",
      "    # last mirror in row is special case:\n",
      "    \n",
      "    mirror_value = mirrors[L]\n",
      "    \n",
      "    if mirror_value == 1\n",
      "        terminate!(state, labels[L])\n",
      "        \n",
      "        if mirrors[L-1] == 1\n",
      "            new_labels[L] = labels[L-1]\n",
      "            state.lengths[new_labels[L]] += 2\n",
      "                \n",
      "        else\n",
      "            new_labels[L] = new_labels[L-1]  # it's a new trajectory; already created the correct new label\n",
      "            state.lengths[new_labels[L]] += 1  # U shape, already put 2 to start with\n",
      "                \n",
      "        end\n",
      "        \n",
      "    else  # mirror_value = -1\n",
      "        if mirrors[L-1] == 1\n",
      "            join_paths!(state, labels[L-1], labels[L])\n",
      "        end\n",
      "            \n",
      "        new_labels[L] = new_label!(state, true)  # starts from edge, so is open\n",
      "    end\n",
      "    \n",
      "    return labels, new_labels\n",
      "    \n",
      "    #return (new_labels, state)\n",
      "\n",
      "    # Also must terminate those trajectories that leave\n",
      "\n",
      "end\n",
      "\n",
      "    \n",
      "    "
     ],
     "language": "python",
     "metadata": {},
     "outputs": [
      {
       "metadata": {},
       "output_type": "pyout",
       "prompt_number": 22,
       "text": [
        "do_row! (generic function with 1 method)"
       ]
      }
     ],
     "prompt_number": 22
    },
    {
     "cell_type": "code",
     "collapsed": false,
     "input": [
      "function find_paths(state::State)\n",
      "    # join disjoint sets\n",
      "    \n",
      "    num_paths = length(state.lengths)\n",
      "    \n",
      "    println(\"Finding paths... num_paths=\", num_paths)\n",
      "    \n",
      "#     println(\"Current path lengths:\")\n",
      "#     for i in 1:num_paths\n",
      "#         root = find_root(state, i)\n",
      "#         println(i, \"\\t\", root, \"\\t\", state.lengths[i])\n",
      "#     end\n",
      "       \n",
      "    \n",
      "    for i in num_paths:-1:1\n",
      "        root = find_root(state, i);\n",
      "        #println(i, \"\\t\", root, \"\\t\", state.lengths[i])\n",
      "        if root < i\n",
      "            state.lengths[root] += state.lengths[i]\n",
      "            state.is_open[root] = (state.is_open[i] || state.is_open[root])  # if either open, the whole is open\n",
      "        end\n",
      "    end\n",
      "    \n",
      "    num_closed_paths = 0\n",
      "    total_closed_length = 0\n",
      "    num_open_paths = 0\n",
      "    total_open_length = 0\n",
      "    \n",
      "    println()\n",
      "    for i in 1:num_paths\n",
      "        if find_root(state, i) == i\n",
      "            \n",
      "            #println(i, \"\\t\", state.lengths[i], \"\\t\", state.is_open[i])\n",
      "            \n",
      "            if state.is_open[i]\n",
      "                num_open_paths += 1\n",
      "                total_open_length += state.lengths[i]\n",
      "                \n",
      "            else\n",
      "                num_closed_paths += 1\n",
      "                total_closed_length += state.lengths[i]\n",
      "            end\n",
      "            \n",
      "        end\n",
      "    end\n",
      "    \n",
      "    println(\"Num open paths: \", num_open_paths)\n",
      "    println(\"Length open: \", total_open_length)\n",
      "    \n",
      "    println(\"Num closed paths: \", num_closed_paths)\n",
      "    println(\"Length closed: \", total_closed_length)\n",
      "    \n",
      "    println(\"Total num paths: \", num_open_paths + num_closed_paths)\n",
      "    println(\"Total length: \", total_open_length + total_closed_length)\n",
      "    \n",
      "    return num_open_paths\n",
      "    \n",
      "end"
     ],
     "language": "python",
     "metadata": {},
     "outputs": [
      {
       "metadata": {},
       "output_type": "pyout",
       "prompt_number": 33,
       "text": [
        "find_paths (generic function with 1 method)"
       ]
      }
     ],
     "prompt_number": 33
    },
    {
     "cell_type": "code",
     "collapsed": false,
     "input": [
      "function run_rows(width, num_rows)\n",
      "    \n",
      "    labels, state = initialise(width)\n",
      "    new_labels = similar(labels)\n",
      "    mirrors = similar(labels)\n",
      "\n",
      "    #print(\"labels=\", labels)\n",
      "    #println(\"state=\", state)\n",
      "\n",
      "    for row in 1:num_rows\n",
      "        if row%1000 == 0\n",
      "            println(\"Doing row \", row)\n",
      "        end\n",
      "        labels, new_labels = do_row!(width, labels, new_labels, mirrors, state)\n",
      "        #print(\"labels=\", labels)\n",
      "        \n",
      "        labels, new_labels = new_labels, labels  # swap\n",
      "        \n",
      "    end\n",
      "    \n",
      "    #println(\"labels: \", labels)\n",
      "\n",
      "    for label in labels  # current labels have reached top, so are open\n",
      "        state.is_open[label] = true  \n",
      "    end\n",
      "\n",
      "    num_open_paths = find_paths(state)\n",
      "\n",
      "    #println(\"state=\", state)\n",
      "end\n",
      "    \n"
     ],
     "language": "python",
     "metadata": {},
     "outputs": [
      {
       "metadata": {},
       "output_type": "pyout",
       "prompt_number": 34,
       "text": [
        "run_rows (generic function with 1 method)"
       ]
      }
     ],
     "prompt_number": 34
    },
    {
     "cell_type": "code",
     "collapsed": false,
     "input": [
      "# for i in 1:100\n",
      "#     println(i)\n",
      "#     srand(i)\n",
      "#     @time num_open_paths = run_rows(5,5)\n",
      "#     if num_open_paths != 10\n",
      "#         println(\"FAILED AT i=\", i)\n",
      "#         break\n",
      "#     end\n",
      "# end\n",
      "\n",
      "srand(12)\n",
      "@time run_rows(5,5)\n",
      " "
     ],
     "language": "python",
     "metadata": {},
     "outputs": [
      {
       "output_type": "stream",
       "stream": "stdout",
       "text": [
        "labels = 1\n"
       ]
      },
      {
       "output_type": "stream",
       "stream": "stdout",
       "text": [
        "\n",
        "mirrors = \\\n"
       ]
      },
      {
       "ename": "LoadError",
       "evalue": "BoundsError()\nwhile loading In[36], in expression starting on line 40",
       "output_type": "pyerr",
       "traceback": [
        "BoundsError()\nwhile loading In[36], in expression starting on line 40",
        " in do_row! at In[22]:91",
        " in run_rows at In[34]:14"
       ]
      }
     ],
     "prompt_number": 36
    },
    {
     "cell_type": "code",
     "collapsed": false,
     "input": [
      "methods(find_root)"
     ],
     "language": "python",
     "metadata": {},
     "outputs": [
      {
       "html": [
        "3 methods for generic function <b>find_root</b>:<ul><li> find_root(s::<b>IntDisjointSets</b>,x::<b>Integer</b>) at <a href=\"https://github.com/dpsanders/DataStructures.jl/tree/3e8c8434973a458da1dcc4717da117caec0c614f/src/disjoint_set.jl#L33\" target=\"_blank\">/Users/david/development/DataStructures.jl/src/disjoint_set.jl:33</a><li> find_root<i>{T}</i>(s::<b>DisjointSets{T}</b>,x::<b>T</b>) at <a href=\"https://github.com/dpsanders/DataStructures.jl/tree/3e8c8434973a458da1dcc4717da117caec0c614f/src/disjoint_set.jl#L110\" target=\"_blank\">/Users/david/development/DataStructures.jl/src/disjoint_set.jl:110</a><li> find_root(state::<b>State</b>,n::<b>Integer</b>) at In[3]:14</ul>"
       ],
       "metadata": {},
       "output_type": "pyout",
       "prompt_number": 26,
       "text": [
        "# 3 methods for generic function \"find_root\":\n",
        "find_root(s::IntDisjointSets,x::Integer) at /Users/david/development/DataStructures.jl/src/disjoint_set.jl:33\n",
        "find_root{T}(s::DisjointSets{T},x::T) at /Users/david/development/DataStructures.jl/src/disjoint_set.jl:110\n",
        "find_root(state::State,n::Integer) at In[3]:14"
       ]
      }
     ],
     "prompt_number": 26
    },
    {
     "cell_type": "code",
     "collapsed": false,
     "input": [
      "IntDisjointSets"
     ],
     "language": "python",
     "metadata": {},
     "outputs": [
      {
       "metadata": {},
       "output_type": "pyout",
       "prompt_number": 15,
       "text": [
        "IntDisjointSets (constructor with 1 method)"
       ]
      }
     ],
     "prompt_number": 15
    },
    {
     "cell_type": "code",
     "collapsed": false,
     "input": [],
     "language": "python",
     "metadata": {},
     "outputs": []
    }
   ],
   "metadata": {}
  }
 ]
}